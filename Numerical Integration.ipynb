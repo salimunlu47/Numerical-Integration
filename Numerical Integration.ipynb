{
 "cells": [
  {
   "cell_type": "code",
   "execution_count": 2,
   "metadata": {},
   "outputs": [
    {
     "name": "stdout",
     "output_type": "stream",
     "text": [
      "Using Rectangular method on f1:\n",
      "segment: 10  \n",
      "result: 0.296963384533\n",
      "abs error: 0.006283442911\n",
      "segment: 100 \n",
      "result: 0.302608153858\n",
      "abs error: 0.000638673586\n",
      "segment: 1000\n",
      "result: 0.303182856696\n",
      "abs error: 0.000063970749\n",
      "Using Trapezoidal method on f1:\n",
      "segment: 10  \n",
      "result: 0.303361608184\n",
      "abs error: 0.000114780740\n",
      "segment: 100 \n",
      "result: 0.303247976224\n",
      "abs error: 0.000001148779\n",
      "segment: 1000\n",
      "result: 0.303246838932\n",
      "abs error: 0.000000011488\n",
      "Using Simpsons method on f1:\n",
      "segment: 10  \n",
      "result: 0.303247214118\n",
      "abs error: 0.000000386674\n",
      "segment: 100 \n",
      "result: 0.303246827484\n",
      "abs error: 0.000000000039\n",
      "segment: 1000\n",
      "result: 0.303246827444\n",
      "abs error: 0.000000000000\n",
      "Using Rectangular method on f2:\n",
      "segment: 10  \n",
      "result: 0.445886129741\n",
      "abs error: 0.047904205259\n",
      "Using Rectangular method on f3:\n",
      "segment: 10  \n",
      "result: 0.935000000000\n",
      "abs error: 0.101666666667\n"
     ]
    }
   ],
   "source": [
    "# File: Numerical Integration\n",
    "\n",
    "import math\n",
    "import lab3_fns\n",
    "\n",
    "print ('Using Rectangular method on f1:')\n",
    "lab3_fns.integral(lab3_fns.rectangular, lab3_fns.f1)\n",
    "print\n",
    "print ('Using Trapezoidal method on f1:')\n",
    "lab3_fns.integral(lab3_fns.trapezoidal, lab3_fns.f1)\n",
    "print\n",
    "print ('Using Simpsons method on f1:')\n",
    "lab3_fns.integral(lab3_fns.simpsons, lab3_fns.f1)\n",
    "print\n",
    "print ('Using Rectangular method on f2:')\n",
    "val=0.493790335\n",
    "n=10\n",
    "result=lab3_fns.rectangular(lab3_fns.f2, 0, 2.5, n)\n",
    "error=abs(result-val)\n",
    "print ('segment: %-4d' % n,)\n",
    "print ('result: %.12f' % result,)\n",
    "print ('abs error: %.12f' % error)\n",
    "print\n",
    "print ('Using Rectangular method on f3:')\n",
    "val=float(5)/6\n",
    "n=10\n",
    "result=lab3_fns.rect2d(lab3_fns.f3, 0, 1, 10, 0, 1, n)\n",
    "error=abs(result-val)\n",
    "print ('segment: %-4d' % n,)\n",
    "print ('result: %.12f' % result,)\n",
    "print ('abs error: %.12f' % error)"
   ]
  },
  {
   "cell_type": "code",
   "execution_count": null,
   "metadata": {},
   "outputs": [],
   "source": []
  },
  {
   "cell_type": "code",
   "execution_count": null,
   "metadata": {},
   "outputs": [],
   "source": []
  }
 ],
 "metadata": {
  "kernelspec": {
   "display_name": "Python 3",
   "language": "python",
   "name": "python3"
  },
  "language_info": {
   "codemirror_mode": {
    "name": "ipython",
    "version": 3
   },
   "file_extension": ".py",
   "mimetype": "text/x-python",
   "name": "python",
   "nbconvert_exporter": "python",
   "pygments_lexer": "ipython3",
   "version": "3.7.4"
  }
 },
 "nbformat": 4,
 "nbformat_minor": 2
}
